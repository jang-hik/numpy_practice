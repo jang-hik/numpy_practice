{
 "cells": [
  {
   "cell_type": "code",
   "execution_count": 1,
   "id": "dbc8fc20",
   "metadata": {
    "ExecuteTime": {
     "end_time": "2022-03-26T05:00:07.376923Z",
     "start_time": "2022-03-26T05:00:07.248051Z"
    }
   },
   "outputs": [],
   "source": [
    "import numpy as np"
   ]
  },
  {
   "cell_type": "markdown",
   "id": "458bf64c",
   "metadata": {
    "ExecuteTime": {
     "end_time": "2022-03-15T05:12:46.991519Z",
     "start_time": "2022-03-15T05:12:46.981465Z"
    }
   },
   "source": [
    " # np.array()로 ndarray() 생성"
   ]
  },
  {
   "cell_type": "code",
   "execution_count": 2,
   "id": "ee92cf77",
   "metadata": {
    "ExecuteTime": {
     "end_time": "2022-03-26T05:00:07.392365Z",
     "start_time": "2022-03-26T05:00:07.378833Z"
    }
   },
   "outputs": [
    {
     "data": {
      "text/plain": [
       "array([1, 2, 3])"
      ]
     },
     "execution_count": 2,
     "metadata": {},
     "output_type": "execute_result"
    }
   ],
   "source": [
    "# 1차원 생성\n",
    "array1 = np.array([1,2,3])\n",
    "array1"
   ]
  },
  {
   "cell_type": "code",
   "execution_count": 3,
   "id": "1f4a3c08",
   "metadata": {
    "ExecuteTime": {
     "end_time": "2022-03-26T05:00:07.408257Z",
     "start_time": "2022-03-26T05:00:07.393371Z"
    }
   },
   "outputs": [
    {
     "name": "stdout",
     "output_type": "stream",
     "text": [
      "[1, 2, 3] <class 'list'>\n",
      "[1 2 3] <class 'numpy.ndarray'>\n"
     ]
    }
   ],
   "source": [
    "list1 = [1, 2, 3]\n",
    "print(list1, type(list1))\n",
    "\n",
    "array1 = np.array(list1)\n",
    "print(array1, type(array1))"
   ]
  },
  {
   "cell_type": "code",
   "execution_count": 4,
   "id": "979d56f2",
   "metadata": {
    "ExecuteTime": {
     "end_time": "2022-03-26T05:00:07.423160Z",
     "start_time": "2022-03-26T05:00:07.409307Z"
    }
   },
   "outputs": [
    {
     "data": {
      "text/plain": [
       "array([[1, 2, 3],\n",
       "       [4, 5, 6]])"
      ]
     },
     "execution_count": 4,
     "metadata": {},
     "output_type": "execute_result"
    }
   ],
   "source": [
    "# 2차원 생성\n",
    "array2 = np.array([[1,2,3],\n",
    "                  [4,5,6]])\n",
    "array2"
   ]
  },
  {
   "cell_type": "markdown",
   "id": "0bbb31b3",
   "metadata": {
    "ExecuteTime": {
     "end_time": "2022-03-15T05:17:12.943570Z",
     "start_time": "2022-03-15T05:17:12.926663Z"
    }
   },
   "source": [
    " # shape로 nd.array() 형태 알아보기"
   ]
  },
  {
   "cell_type": "code",
   "execution_count": 5,
   "id": "217cebba",
   "metadata": {
    "ExecuteTime": {
     "end_time": "2022-03-26T05:00:07.438359Z",
     "start_time": "2022-03-26T05:00:07.424360Z"
    }
   },
   "outputs": [
    {
     "data": {
      "text/plain": [
       "(3,)"
      ]
     },
     "execution_count": 5,
     "metadata": {},
     "output_type": "execute_result"
    }
   ],
   "source": [
    "array1.shape\n",
    "\n",
    "# \"1행 3열\"이라는 뜻, 1차원임"
   ]
  },
  {
   "cell_type": "code",
   "execution_count": 6,
   "id": "1536ee95",
   "metadata": {
    "ExecuteTime": {
     "end_time": "2022-03-26T05:00:07.454476Z",
     "start_time": "2022-03-26T05:00:07.439715Z"
    }
   },
   "outputs": [
    {
     "data": {
      "text/plain": [
       "(2, 3)"
      ]
     },
     "execution_count": 6,
     "metadata": {},
     "output_type": "execute_result"
    }
   ],
   "source": [
    "array2.shape\n",
    "\n",
    "# \"2행 3열\"이라는 뜻, 2차원임"
   ]
  },
  {
   "cell_type": "code",
   "execution_count": 7,
   "id": "8391ccbb",
   "metadata": {
    "ExecuteTime": {
     "end_time": "2022-03-26T05:00:07.469961Z",
     "start_time": "2022-03-26T05:00:07.455992Z"
    }
   },
   "outputs": [
    {
     "name": "stdout",
     "output_type": "stream",
     "text": [
      "array1 type: <class 'numpy.ndarray'>\n",
      "array1 array 형태: (3,)\n",
      "array2 type: <class 'numpy.ndarray'>\n",
      "array2 array 형태: (2, 3)\n",
      "array3 type: <class 'numpy.ndarray'>\n",
      "array3 array 형태: (1, 3)\n"
     ]
    }
   ],
   "source": [
    "array1 = np.array([1,2,3])\n",
    "print('array1 type:',type(array1))\n",
    "print('array1 array 형태:',array1.shape)\n",
    "\n",
    "array2 = np.array([[1,2,3],\n",
    "                  [2,3,4]])\n",
    "print('array2 type:',type(array2))\n",
    "print('array2 array 형태:',array2.shape)\n",
    "\n",
    "# 밑에는 명백한 2차원 배열임\n",
    "array3 = np.array([[1,2,3]])\n",
    "print('array3 type:',type(array3))\n",
    "print('array3 array 형태:',array3.shape)"
   ]
  },
  {
   "cell_type": "markdown",
   "id": "c3dd5196",
   "metadata": {
    "ExecuteTime": {
     "end_time": "2022-03-15T05:21:50.023314Z",
     "start_time": "2022-03-15T05:21:50.018286Z"
    }
   },
   "source": [
    " # dtype으로 nd.array 데이터 타입 알아보기"
   ]
  },
  {
   "cell_type": "markdown",
   "id": "b129418f",
   "metadata": {
    "ExecuteTime": {
     "end_time": "2022-03-15T05:22:43.027222Z",
     "start_time": "2022-03-15T05:22:43.011980Z"
    }
   },
   "source": [
    " - nd.array 내의 데이터 값은 숫자, 문자, 불 값이 모두 가능합니다\n",
    " - 숫자형의 경우 int, unsigned int, float, complex까지 모두 가능합니다 \n",
    " -  nd.array내의 데이터 타입은 특성상 같은 데이터 타입만 가능합니다. 즉, 한 개의 nd.array객체에 int형과 float형이 함께 있을 수 없습니다."
   ]
  },
  {
   "cell_type": "code",
   "execution_count": 8,
   "id": "41446f9a",
   "metadata": {
    "ExecuteTime": {
     "end_time": "2022-03-26T05:00:07.485329Z",
     "start_time": "2022-03-26T05:00:07.471401Z"
    }
   },
   "outputs": [
    {
     "data": {
      "text/plain": [
       "dtype('int32')"
      ]
     },
     "execution_count": 8,
     "metadata": {},
     "output_type": "execute_result"
    }
   ],
   "source": [
    "# nd.array의 데이터 타입은 dtype로 확인 가능하다.\n",
    "array1.dtype"
   ]
  },
  {
   "cell_type": "markdown",
   "id": "f761673a",
   "metadata": {
    "ExecuteTime": {
     "end_time": "2022-03-15T05:27:44.694836Z",
     "start_time": "2022-03-15T05:27:44.686947Z"
    }
   },
   "source": [
    " # astype()으로 np.array의 데이터 타입 변환"
   ]
  },
  {
   "cell_type": "code",
   "execution_count": 9,
   "id": "6b10b123",
   "metadata": {
    "ExecuteTime": {
     "end_time": "2022-03-26T05:00:07.500384Z",
     "start_time": "2022-03-26T05:00:07.486836Z"
    }
   },
   "outputs": [
    {
     "name": "stdout",
     "output_type": "stream",
     "text": [
      "[7. 8. 9.] float64\n",
      "[7 8 9] int32\n"
     ]
    }
   ],
   "source": [
    "array_int = np.array([7, 8, 9])\n",
    "array_float = array_int.astype('float64')\n",
    "\n",
    "print(array_float, array_float.dtype)\n",
    "print(array_int, array_int.dtype)"
   ]
  },
  {
   "cell_type": "markdown",
   "id": "a86d3e55",
   "metadata": {
    "ExecuteTime": {
     "end_time": "2022-03-15T06:24:08.544967Z",
     "start_time": "2022-03-15T06:24:08.541844Z"
    }
   },
   "source": [
    " # axis기반 연산함수"
   ]
  },
  {
   "cell_type": "code",
   "execution_count": 10,
   "id": "67c3eae9",
   "metadata": {
    "ExecuteTime": {
     "end_time": "2022-03-26T05:00:07.515703Z",
     "start_time": "2022-03-26T05:00:07.502366Z"
    }
   },
   "outputs": [
    {
     "name": "stdout",
     "output_type": "stream",
     "text": [
      "15\n",
      "[3 5 7]\n",
      "[6 9]\n"
     ]
    }
   ],
   "source": [
    "array2 = np.array([[1,2,3],\n",
    "                  [2,3,4]])\n",
    "\n",
    "print(array2.sum()) # 배열의 모든 element들을 합해줌\n",
    "\n",
    "print(array2.sum(axis=0)) # axis=0 방향으로 더해줌\n",
    "\n",
    "print(array2.sum(axis=1)) # axis=1 방향으로 더해줌"
   ]
  },
  {
   "cell_type": "markdown",
   "id": "4a3bd777",
   "metadata": {
    "ExecuteTime": {
     "end_time": "2022-03-15T06:30:43.149844Z",
     "start_time": "2022-03-15T06:30:43.135016Z"
    }
   },
   "source": [
    " # \"arange\", \"zeros\", \"ones\"를 이용해 nd.array 생성"
   ]
  },
  {
   "cell_type": "markdown",
   "id": "79d88f0a",
   "metadata": {
    "ExecuteTime": {
     "end_time": "2022-03-15T06:32:54.898459Z",
     "start_time": "2022-03-15T06:32:54.890991Z"
    }
   },
   "source": [
    " * arange"
   ]
  },
  {
   "cell_type": "code",
   "execution_count": 11,
   "id": "17e66251",
   "metadata": {
    "ExecuteTime": {
     "end_time": "2022-03-26T05:00:07.531172Z",
     "start_time": "2022-03-26T05:00:07.516875Z"
    }
   },
   "outputs": [
    {
     "data": {
      "text/plain": [
       "array([0, 1, 2, 3, 4, 5, 6, 7, 8, 9])"
      ]
     },
     "execution_count": 11,
     "metadata": {},
     "output_type": "execute_result"
    }
   ],
   "source": [
    "# \"arange(10)\"(\"r\"이 하나다.)으로 0부터 9까지 들어간 1차원 배열 생성\n",
    "array1 = np.arange(10)\n",
    "array1"
   ]
  },
  {
   "cell_type": "markdown",
   "id": "0e70d598",
   "metadata": {},
   "source": [
    " * zeros로 영행렬 만들기"
   ]
  },
  {
   "cell_type": "code",
   "execution_count": 12,
   "id": "acf8e3f3",
   "metadata": {
    "ExecuteTime": {
     "end_time": "2022-03-26T05:00:07.547139Z",
     "start_time": "2022-03-26T05:00:07.532363Z"
    }
   },
   "outputs": [
    {
     "data": {
      "text/plain": [
       "array([[0., 0.],\n",
       "       [0., 0.],\n",
       "       [0., 0.]])"
      ]
     },
     "execution_count": 12,
     "metadata": {},
     "output_type": "execute_result"
    }
   ],
   "source": [
    "# 디폴트값이 float형이다.\n",
    "np.zeros((3,2))"
   ]
  },
  {
   "cell_type": "code",
   "execution_count": 13,
   "id": "b106b883",
   "metadata": {
    "ExecuteTime": {
     "end_time": "2022-03-26T05:00:07.562803Z",
     "start_time": "2022-03-26T05:00:07.548698Z"
    }
   },
   "outputs": [
    {
     "data": {
      "text/plain": [
       "array([[0, 0],\n",
       "       [0, 0],\n",
       "       [0, 0]])"
      ]
     },
     "execution_count": 13,
     "metadata": {},
     "output_type": "execute_result"
    }
   ],
   "source": [
    "# dtype으로 int형으로 바꿀 수 있다.\n",
    "np.zeros((3,2), dtype=\"int32\")"
   ]
  },
  {
   "cell_type": "markdown",
   "id": "60d94912",
   "metadata": {
    "ExecuteTime": {
     "end_time": "2022-03-15T06:34:09.415918Z",
     "start_time": "2022-03-15T06:34:09.410173Z"
    }
   },
   "source": [
    " * ones로 모든 원소기 1인 행렬 만들기"
   ]
  },
  {
   "cell_type": "code",
   "execution_count": 14,
   "id": "4e8727c6",
   "metadata": {
    "ExecuteTime": {
     "end_time": "2022-03-26T05:00:07.578761Z",
     "start_time": "2022-03-26T05:00:07.564821Z"
    }
   },
   "outputs": [
    {
     "data": {
      "text/plain": [
       "array([[1., 1.],\n",
       "       [1., 1.],\n",
       "       [1., 1.]])"
      ]
     },
     "execution_count": 14,
     "metadata": {},
     "output_type": "execute_result"
    }
   ],
   "source": [
    "# 디폴트값은 float형이다\n",
    "np.ones((3,2))"
   ]
  },
  {
   "cell_type": "code",
   "execution_count": 15,
   "id": "926a0d99",
   "metadata": {
    "ExecuteTime": {
     "end_time": "2022-03-26T05:00:07.594679Z",
     "start_time": "2022-03-26T05:00:07.580694Z"
    }
   },
   "outputs": [
    {
     "data": {
      "text/plain": [
       "array([[1, 1],\n",
       "       [1, 1],\n",
       "       [1, 1]])"
      ]
     },
     "execution_count": 15,
     "metadata": {},
     "output_type": "execute_result"
    }
   ],
   "source": [
    "# dtype로 int형으로 바꿀 수 있다.\n",
    "np.ones((3,2), dtype=\"int32\")"
   ]
  },
  {
   "cell_type": "markdown",
   "id": "cb8a5288",
   "metadata": {
    "ExecuteTime": {
     "end_time": "2022-03-15T06:40:15.914750Z",
     "start_time": "2022-03-15T06:40:15.901523Z"
    }
   },
   "source": [
    " # reshape로 nd.array의 차원과 크기 변경"
   ]
  },
  {
   "cell_type": "code",
   "execution_count": 16,
   "id": "41dd7719",
   "metadata": {
    "ExecuteTime": {
     "end_time": "2022-03-26T05:00:07.610353Z",
     "start_time": "2022-03-26T05:00:07.596444Z"
    }
   },
   "outputs": [
    {
     "data": {
      "text/plain": [
       "array([0, 1, 2, 3, 4, 5, 6, 7, 8, 9])"
      ]
     },
     "execution_count": 16,
     "metadata": {},
     "output_type": "execute_result"
    }
   ],
   "source": [
    "array1 = np.arange(10)\n",
    "array1"
   ]
  },
  {
   "cell_type": "code",
   "execution_count": 17,
   "id": "7c21b395",
   "metadata": {
    "ExecuteTime": {
     "end_time": "2022-03-26T05:00:07.626044Z",
     "start_time": "2022-03-26T05:00:07.611210Z"
    }
   },
   "outputs": [
    {
     "data": {
      "text/plain": [
       "array([[0, 1, 2, 3, 4],\n",
       "       [5, 6, 7, 8, 9]])"
      ]
     },
     "execution_count": 17,
     "metadata": {},
     "output_type": "execute_result"
    }
   ],
   "source": [
    "# reshape(2,5)로 2차원의 \"2행 5열\"의 array로 변환한다.\n",
    "\n",
    "array1.reshape(2,5)"
   ]
  },
  {
   "cell_type": "markdown",
   "id": "28b2f281",
   "metadata": {},
   "source": [
    "**reshape(-1,5)에서 -1은 가변적이다는 뜻이다.**"
   ]
  },
  {
   "cell_type": "code",
   "execution_count": 18,
   "id": "fb920b1c",
   "metadata": {
    "ExecuteTime": {
     "end_time": "2022-03-26T05:00:07.641431Z",
     "start_time": "2022-03-26T05:00:07.627574Z"
    }
   },
   "outputs": [
    {
     "data": {
      "text/plain": [
       "array([[0, 1, 2, 3, 4],\n",
       "       [5, 6, 7, 8, 9]])"
      ]
     },
     "execution_count": 18,
     "metadata": {},
     "output_type": "execute_result"
    }
   ],
   "source": [
    "# reshape(-1,5)에서 -1은 가변적이다는 뜻이다. 열을 5로 고정되어 있다.\n",
    "# 열을 5로 고정시킨 상태에서 array를 변환시킨다는 뜻이다.\n",
    "\n",
    "array1.reshape(-1,5)\n",
    "\n",
    "#shape(2,5)로 바뀌었다."
   ]
  },
  {
   "cell_type": "code",
   "execution_count": 19,
   "id": "6f319f4a",
   "metadata": {
    "ExecuteTime": {
     "end_time": "2022-03-26T05:00:07.657165Z",
     "start_time": "2022-03-26T05:00:07.642493Z"
    }
   },
   "outputs": [
    {
     "data": {
      "text/plain": [
       "array([[0, 1],\n",
       "       [2, 3],\n",
       "       [4, 5],\n",
       "       [6, 7],\n",
       "       [8, 9]])"
      ]
     },
     "execution_count": 19,
     "metadata": {},
     "output_type": "execute_result"
    }
   ],
   "source": [
    " # reshape(5,-1)은 5행으로 고정하고 열은 가변적인 상태로 바꾸어줌\n",
    "\n",
    "array1.reshape(5,-1)\n",
    "\n",
    "# shape(5,2)로 바뀜"
   ]
  },
  {
   "cell_type": "markdown",
   "id": "5830cdc7",
   "metadata": {
    "ExecuteTime": {
     "end_time": "2022-03-15T06:47:20.899702Z",
     "start_time": "2022-03-15T06:47:20.881014Z"
    }
   },
   "source": [
    " * reshape 응용"
   ]
  },
  {
   "cell_type": "code",
   "execution_count": 20,
   "id": "d6927091",
   "metadata": {
    "ExecuteTime": {
     "end_time": "2022-03-26T05:00:07.672644Z",
     "start_time": "2022-03-26T05:00:07.659095Z"
    }
   },
   "outputs": [
    {
     "data": {
      "text/plain": [
       "array([0, 1, 2, 3, 4])"
      ]
     },
     "execution_count": 20,
     "metadata": {},
     "output_type": "execute_result"
    }
   ],
   "source": [
    "array1d = np.array([0,1,2,3,4])\n",
    "array1d"
   ]
  },
  {
   "cell_type": "code",
   "execution_count": 21,
   "id": "698e2ac3",
   "metadata": {
    "ExecuteTime": {
     "end_time": "2022-03-26T05:00:07.688135Z",
     "start_time": "2022-03-26T05:00:07.673664Z"
    }
   },
   "outputs": [
    {
     "data": {
      "text/plain": [
       "array([[0],\n",
       "       [1],\n",
       "       [2],\n",
       "       [3],\n",
       "       [4]])"
      ]
     },
     "execution_count": 21,
     "metadata": {},
     "output_type": "execute_result"
    }
   ],
   "source": [
    "# reshape(-1,1)로 2차원 1열로 바꿔줌\n",
    "array2d = array1d.reshape(-1,1)\n",
    "array2d\n",
    "\n",
    "# shape(5,1)로 바뀜, \"5행 1열\"임"
   ]
  },
  {
   "cell_type": "code",
   "execution_count": 22,
   "id": "c6a67a78",
   "metadata": {
    "ExecuteTime": {
     "end_time": "2022-03-26T05:00:07.703684Z",
     "start_time": "2022-03-26T05:00:07.689154Z"
    }
   },
   "outputs": [
    {
     "data": {
      "text/plain": [
       "array([0, 1, 2, 3, 4])"
      ]
     },
     "execution_count": 22,
     "metadata": {},
     "output_type": "execute_result"
    }
   ],
   "source": [
    "# reshape(-1,)로 1차원으로 바꿔줌\n",
    "\n",
    "array2d.reshape(-1,)\n",
    "\n",
    "# shape(5,)로 바뀜, \"1행 5열\"임"
   ]
  },
  {
   "cell_type": "markdown",
   "id": "5f0693c2",
   "metadata": {},
   "source": [
    " # 데이터 세트 선택하기"
   ]
  },
  {
   "cell_type": "markdown",
   "id": "46d093c1",
   "metadata": {
    "ExecuteTime": {
     "end_time": "2022-03-26T04:58:36.180286Z",
     "start_time": "2022-03-26T04:58:36.166235Z"
    }
   },
   "source": [
    " ## 인덱싱"
   ]
  },
  {
   "cell_type": "code",
   "execution_count": 24,
   "id": "4e8f06ad",
   "metadata": {
    "ExecuteTime": {
     "end_time": "2022-03-26T05:00:58.418905Z",
     "start_time": "2022-03-26T05:00:58.401423Z"
    }
   },
   "outputs": [
    {
     "name": "stdout",
     "output_type": "stream",
     "text": [
      "<class 'numpy.ndarray'>\n",
      " \n",
      "[1 2 3 4 5 6 7 8 9]\n"
     ]
    }
   ],
   "source": [
    "array1 = np.arange(start=1, stop=10)\n",
    "print(type(array1))\n",
    "print(\" \")\n",
    "print(array1)"
   ]
  },
  {
   "cell_type": "code",
   "execution_count": 28,
   "id": "c4ee84e3",
   "metadata": {
    "ExecuteTime": {
     "end_time": "2022-03-26T05:03:55.732212Z",
     "start_time": "2022-03-26T05:03:55.725413Z"
    }
   },
   "outputs": [
    {
     "name": "stdout",
     "output_type": "stream",
     "text": [
      "3 9 8 1 9\n"
     ]
    }
   ],
   "source": [
    "print(array1[2], array1[-1], array1[-2], array1[0], array1[8])"
   ]
  },
  {
   "cell_type": "code",
   "execution_count": 30,
   "id": "faf1b75e",
   "metadata": {
    "ExecuteTime": {
     "end_time": "2022-03-26T05:04:51.212411Z",
     "start_time": "2022-03-26T05:04:51.202383Z"
    }
   },
   "outputs": [
    {
     "data": {
      "text/plain": [
       "array([[1, 2, 3],\n",
       "       [4, 5, 6],\n",
       "       [7, 8, 9]])"
      ]
     },
     "execution_count": 30,
     "metadata": {},
     "output_type": "execute_result"
    }
   ],
   "source": [
    "array2 = array1.reshape(3,3)\n",
    "array2"
   ]
  },
  {
   "cell_type": "code",
   "execution_count": 32,
   "id": "45ca0f7c",
   "metadata": {
    "ExecuteTime": {
     "end_time": "2022-03-26T05:05:29.556532Z",
     "start_time": "2022-03-26T05:05:29.550138Z"
    }
   },
   "outputs": [
    {
     "data": {
      "text/plain": [
       "5"
      ]
     },
     "execution_count": 32,
     "metadata": {},
     "output_type": "execute_result"
    }
   ],
   "source": [
    "array2[1,1]"
   ]
  },
  {
   "cell_type": "markdown",
   "id": "6d208b3b",
   "metadata": {
    "ExecuteTime": {
     "end_time": "2022-03-26T05:06:29.157414Z",
     "start_time": "2022-03-26T05:06:29.151575Z"
    }
   },
   "source": [
    " ## 슬라이싱"
   ]
  },
  {
   "cell_type": "markdown",
   "id": "c2570310",
   "metadata": {
    "ExecuteTime": {
     "end_time": "2022-03-26T05:08:45.414670Z",
     "start_time": "2022-03-26T05:08:45.401510Z"
    }
   },
   "source": [
    " ### 1차원 슬라이싱"
   ]
  },
  {
   "cell_type": "code",
   "execution_count": 34,
   "id": "3590854d",
   "metadata": {
    "ExecuteTime": {
     "end_time": "2022-03-26T05:07:58.580309Z",
     "start_time": "2022-03-26T05:07:58.565445Z"
    }
   },
   "outputs": [
    {
     "data": {
      "text/plain": [
       "array([1, 2, 3, 4, 5, 6, 7, 8, 9])"
      ]
     },
     "execution_count": 34,
     "metadata": {},
     "output_type": "execute_result"
    }
   ],
   "source": [
    "array1"
   ]
  },
  {
   "cell_type": "code",
   "execution_count": 35,
   "id": "72a7d8bd",
   "metadata": {
    "ExecuteTime": {
     "end_time": "2022-03-26T05:08:04.733684Z",
     "start_time": "2022-03-26T05:08:04.716173Z"
    }
   },
   "outputs": [
    {
     "data": {
      "text/plain": [
       "array([2, 3])"
      ]
     },
     "execution_count": 35,
     "metadata": {},
     "output_type": "execute_result"
    }
   ],
   "source": [
    "array1[1:3]"
   ]
  },
  {
   "cell_type": "code",
   "execution_count": 38,
   "id": "bd4a143c",
   "metadata": {
    "ExecuteTime": {
     "end_time": "2022-03-26T05:08:22.688441Z",
     "start_time": "2022-03-26T05:08:22.683544Z"
    }
   },
   "outputs": [
    {
     "data": {
      "text/plain": [
       "array([4, 5, 6, 7, 8, 9])"
      ]
     },
     "execution_count": 38,
     "metadata": {},
     "output_type": "execute_result"
    }
   ],
   "source": [
    "array1[3:]"
   ]
  },
  {
   "cell_type": "code",
   "execution_count": 39,
   "id": "80e804a1",
   "metadata": {
    "ExecuteTime": {
     "end_time": "2022-03-26T05:08:29.926541Z",
     "start_time": "2022-03-26T05:08:29.910064Z"
    }
   },
   "outputs": [
    {
     "data": {
      "text/plain": [
       "array([1, 2, 3])"
      ]
     },
     "execution_count": 39,
     "metadata": {},
     "output_type": "execute_result"
    }
   ],
   "source": [
    "array1[:3]"
   ]
  },
  {
   "cell_type": "code",
   "execution_count": 44,
   "id": "596f71c5",
   "metadata": {
    "ExecuteTime": {
     "end_time": "2022-03-26T05:09:47.015291Z",
     "start_time": "2022-03-26T05:09:47.001878Z"
    }
   },
   "outputs": [
    {
     "data": {
      "text/plain": [
       "array([1, 2, 3, 4, 5, 6, 7, 8, 9])"
      ]
     },
     "execution_count": 44,
     "metadata": {},
     "output_type": "execute_result"
    }
   ],
   "source": [
    "array1[:]"
   ]
  },
  {
   "cell_type": "markdown",
   "id": "d78ce4b2",
   "metadata": {
    "ExecuteTime": {
     "end_time": "2022-03-26T05:08:58.032296Z",
     "start_time": "2022-03-26T05:08:58.018602Z"
    }
   },
   "source": [
    " ### 2차원 슬라이싱"
   ]
  },
  {
   "cell_type": "code",
   "execution_count": 40,
   "id": "3f6f0f56",
   "metadata": {
    "ExecuteTime": {
     "end_time": "2022-03-26T05:08:37.581493Z",
     "start_time": "2022-03-26T05:08:37.570913Z"
    }
   },
   "outputs": [
    {
     "data": {
      "text/plain": [
       "array([[1, 2, 3],\n",
       "       [4, 5, 6],\n",
       "       [7, 8, 9]])"
      ]
     },
     "execution_count": 40,
     "metadata": {},
     "output_type": "execute_result"
    }
   ],
   "source": [
    "array2"
   ]
  },
  {
   "cell_type": "code",
   "execution_count": 45,
   "id": "e58becde",
   "metadata": {
    "ExecuteTime": {
     "end_time": "2022-03-26T05:10:40.465206Z",
     "start_time": "2022-03-26T05:10:40.451738Z"
    }
   },
   "outputs": [
    {
     "data": {
      "text/plain": [
       "array([[2, 3],\n",
       "       [5, 6]])"
      ]
     },
     "execution_count": 45,
     "metadata": {},
     "output_type": "execute_result"
    }
   ],
   "source": [
    "array2[0:2, 1:]"
   ]
  },
  {
   "cell_type": "code",
   "execution_count": 46,
   "id": "99b4e8ea",
   "metadata": {
    "ExecuteTime": {
     "end_time": "2022-03-26T05:11:15.330807Z",
     "start_time": "2022-03-26T05:11:15.325184Z"
    }
   },
   "outputs": [
    {
     "data": {
      "text/plain": [
       "array([[4, 5, 6],\n",
       "       [7, 8, 9]])"
      ]
     },
     "execution_count": 46,
     "metadata": {},
     "output_type": "execute_result"
    }
   ],
   "source": [
    "array2[1:, 0:]"
   ]
  },
  {
   "cell_type": "markdown",
   "id": "0d1a6cbb",
   "metadata": {
    "ExecuteTime": {
     "end_time": "2022-03-26T05:11:32.063743Z",
     "start_time": "2022-03-26T05:11:32.055232Z"
    }
   },
   "source": [
    " ## 팬시 인덱싱"
   ]
  },
  {
   "cell_type": "code",
   "execution_count": 49,
   "id": "d77ae559",
   "metadata": {
    "ExecuteTime": {
     "end_time": "2022-03-26T05:58:59.643640Z",
     "start_time": "2022-03-26T05:58:59.629910Z"
    }
   },
   "outputs": [
    {
     "data": {
      "text/plain": [
       "array([[1, 2, 3],\n",
       "       [4, 5, 6],\n",
       "       [7, 8, 9]])"
      ]
     },
     "execution_count": 49,
     "metadata": {},
     "output_type": "execute_result"
    }
   ],
   "source": [
    "array2"
   ]
  },
  {
   "cell_type": "code",
   "execution_count": 51,
   "id": "a5670493",
   "metadata": {
    "ExecuteTime": {
     "end_time": "2022-03-26T06:00:14.765472Z",
     "start_time": "2022-03-26T06:00:14.749972Z"
    }
   },
   "outputs": [
    {
     "data": {
      "text/plain": [
       "array([[1, 2],\n",
       "       [7, 8]])"
      ]
     },
     "execution_count": 51,
     "metadata": {},
     "output_type": "execute_result"
    }
   ],
   "source": [
    "# 슬라이싱과 다르게 불연속적인 값도 가능\n",
    "array2[[0,2],0:2]"
   ]
  },
  {
   "cell_type": "markdown",
   "id": "2f47daa1",
   "metadata": {
    "ExecuteTime": {
     "end_time": "2022-03-26T06:00:22.033983Z",
     "start_time": "2022-03-26T06:00:22.024864Z"
    }
   },
   "source": [
    " ## 불린 인덱싱"
   ]
  },
  {
   "cell_type": "code",
   "execution_count": 53,
   "id": "e1fa6f04",
   "metadata": {
    "ExecuteTime": {
     "end_time": "2022-03-26T06:02:33.246806Z",
     "start_time": "2022-03-26T06:02:33.237750Z"
    }
   },
   "outputs": [
    {
     "data": {
      "text/plain": [
       "array([1, 2, 3, 4, 5, 6, 7, 8, 9])"
      ]
     },
     "execution_count": 53,
     "metadata": {},
     "output_type": "execute_result"
    }
   ],
   "source": [
    "array1"
   ]
  },
  {
   "cell_type": "code",
   "execution_count": 56,
   "id": "bbd54ce6",
   "metadata": {
    "ExecuteTime": {
     "end_time": "2022-03-26T06:02:56.588873Z",
     "start_time": "2022-03-26T06:02:56.570446Z"
    }
   },
   "outputs": [
    {
     "name": "stdout",
     "output_type": "stream",
     "text": [
      "[False False False False False  True  True  True  True]\n",
      "\n",
      "<class 'numpy.ndarray'>\n"
     ]
    }
   ],
   "source": [
    "print(array1>5)\n",
    "print(\"\")\n",
    "print(type(array1))"
   ]
  },
  {
   "cell_type": "code",
   "execution_count": 58,
   "id": "bc57ef9e",
   "metadata": {
    "ExecuteTime": {
     "end_time": "2022-03-26T06:04:36.935439Z",
     "start_time": "2022-03-26T06:04:36.928850Z"
    }
   },
   "outputs": [
    {
     "data": {
      "text/plain": [
       "array([6, 7, 8, 9])"
      ]
     },
     "execution_count": 58,
     "metadata": {},
     "output_type": "execute_result"
    }
   ],
   "source": [
    "array1d=array1[array1>5]\n",
    "array1d"
   ]
  },
  {
   "cell_type": "markdown",
   "id": "c69c2318",
   "metadata": {
    "ExecuteTime": {
     "end_time": "2022-03-26T06:26:27.678205Z",
     "start_time": "2022-03-26T06:26:27.665058Z"
    }
   },
   "source": [
    " # 행렬의 정렬 - sort()와 agsort()"
   ]
  },
  {
   "cell_type": "markdown",
   "id": "249609b3",
   "metadata": {
    "ExecuteTime": {
     "end_time": "2022-03-26T06:26:40.201828Z",
     "start_time": "2022-03-26T06:26:40.194765Z"
    }
   },
   "source": [
    " ## sort()"
   ]
  },
  {
   "cell_type": "code",
   "execution_count": 71,
   "id": "4277274c",
   "metadata": {
    "ExecuteTime": {
     "end_time": "2022-03-26T06:41:28.756517Z",
     "start_time": "2022-03-26T06:41:28.752923Z"
    }
   },
   "outputs": [],
   "source": [
    "# np.sort()와 .sort() 모두 오름차순 정렬이다"
   ]
  },
  {
   "cell_type": "code",
   "execution_count": 70,
   "id": "0e5fe0fc",
   "metadata": {
    "ExecuteTime": {
     "end_time": "2022-03-26T06:40:12.900430Z",
     "start_time": "2022-03-26T06:40:12.893140Z"
    }
   },
   "outputs": [
    {
     "name": "stdout",
     "output_type": "stream",
     "text": [
      "원본 행렬: [3 1 9 5]\n",
      " \n",
      "np.sort( ) 호출 후 반환된 정렬 행렬: [1 3 5 9]\n",
      "np.sort( ) 호출 후 원본 행렬: [3 1 9 5]\n",
      " \n",
      "org_array.sort( ) 호출 후 반환된 행렬: None\n",
      "org_array.sort( ) 호출 후 원본 행렬: [1 3 5 9]\n"
     ]
    }
   ],
   "source": [
    "org_array = np.array([ 3, 1, 9, 5]) \n",
    "print('원본 행렬:', org_array)\n",
    "print(\" \")\n",
    "\n",
    "# np.sort( )로 정렬 \n",
    "sort_array1 = np.sort(org_array)         \n",
    "print ('np.sort( ) 호출 후 반환된 정렬 행렬:', sort_array1) \n",
    "print('np.sort( ) 호출 후 원본 행렬:', org_array)\n",
    "print(\" \")\n",
    "\n",
    "# ndarray.sort( )로 정렬\n",
    "sort_array2 = org_array.sort()\n",
    "org_array.sort()\n",
    "print('org_array.sort( ) 호출 후 반환된 행렬:', sort_array2)\n",
    "print('org_array.sort( ) 호출 후 원본 행렬:', org_array)\n"
   ]
  },
  {
   "cell_type": "code",
   "execution_count": 73,
   "id": "0618d044",
   "metadata": {
    "ExecuteTime": {
     "end_time": "2022-03-26T06:42:27.352154Z",
     "start_time": "2022-03-26T06:42:27.341237Z"
    }
   },
   "outputs": [
    {
     "data": {
      "text/plain": [
       "array([9, 5, 3, 1])"
      ]
     },
     "execution_count": 73,
     "metadata": {},
     "output_type": "execute_result"
    }
   ],
   "source": [
    "# 내림차순 정렬\n",
    "\n",
    "sort_array1_desc = np.sort(org_array)[::-1]\n",
    "sort_array1_desc"
   ]
  },
  {
   "cell_type": "code",
   "execution_count": 74,
   "id": "e82c5494",
   "metadata": {
    "ExecuteTime": {
     "end_time": "2022-03-26T06:44:14.184539Z",
     "start_time": "2022-03-26T06:44:14.176910Z"
    }
   },
   "outputs": [
    {
     "name": "stdout",
     "output_type": "stream",
     "text": [
      "행 방향으로 정렬:\n",
      " [[ 7  1]\n",
      " [ 8 12]]\n",
      "열 방향으로 정렬:\n",
      " [[ 8 12]\n",
      " [ 1  7]]\n"
     ]
    }
   ],
   "source": [
    "# axis 기준 정렬\n",
    "\n",
    "array2d = np.array([[8, 12], \n",
    "                   [7, 1 ]])\n",
    "\n",
    "sort_array2d_axis0 = np.sort(array2d, axis=0)\n",
    "print('행 방향으로 정렬:\\n', sort_array2d_axis0)\n",
    "\n",
    "sort_array2d_axis1 = np.sort(array2d, axis=1)\n",
    "print('열 방향으로 정렬:\\n', sort_array2d_axis1)"
   ]
  },
  {
   "cell_type": "markdown",
   "id": "f79f9759",
   "metadata": {
    "ExecuteTime": {
     "end_time": "2022-03-26T06:46:13.411661Z",
     "start_time": "2022-03-26T06:46:13.406592Z"
    }
   },
   "source": [
    " ## agsort()"
   ]
  },
  {
   "cell_type": "code",
   "execution_count": 78,
   "id": "af47ee57",
   "metadata": {
    "ExecuteTime": {
     "end_time": "2022-03-26T06:49:46.240437Z",
     "start_time": "2022-03-26T06:49:46.233752Z"
    }
   },
   "outputs": [
    {
     "name": "stdout",
     "output_type": "stream",
     "text": [
      "[1 3 5 9]\n",
      "<class 'numpy.ndarray'>\n",
      "행렬 정렬 시 원본 행렬의 인덱스: [1 0 3 2]\n"
     ]
    }
   ],
   "source": [
    "# agsort()도 오름차순 정렬이다\n",
    "\n",
    "org_array = np.array([ 3, 1, 9, 5]) \n",
    "print(np.sort(org_array))\n",
    "\n",
    "sort_indices = np.argsort(org_array)\n",
    "print(type(sort_indices))\n",
    "print('행렬 정렬 시 원본 행렬의 인덱스:', sort_indices)"
   ]
  },
  {
   "cell_type": "code",
   "execution_count": 79,
   "id": "ef46e057",
   "metadata": {
    "ExecuteTime": {
     "end_time": "2022-03-26T06:50:04.448296Z",
     "start_time": "2022-03-26T06:50:04.437395Z"
    }
   },
   "outputs": [
    {
     "name": "stdout",
     "output_type": "stream",
     "text": [
      "[9 5 3 1]\n",
      "행렬 내림차순 정렬 시 원본 행렬의 인덱스: [2 3 0 1]\n"
     ]
    }
   ],
   "source": [
    "# 내림차순 정렬로 해줄라면 [::-1]을 붙여준다.\n",
    "\n",
    "org_array = np.array([ 3, 1, 9, 5]) \n",
    "print(np.sort(org_array)[::-1])\n",
    "\n",
    "sort_indices_desc = np.argsort(org_array)[::-1]\n",
    "print('행렬 내림차순 정렬 시 원본 행렬의 인덱스:', sort_indices_desc)"
   ]
  },
  {
   "cell_type": "markdown",
   "id": "f8fe6349",
   "metadata": {
    "ExecuteTime": {
     "end_time": "2022-03-26T06:56:49.556014Z",
     "start_time": "2022-03-26T06:56:49.529974Z"
    }
   },
   "source": [
    "John=78, Mike=95, Sarah=84, Kate=98, Samuel=88을 점수를 오름차순으로 정렬하고\n",
    "그에 따라서 사람이름도 오름차순 정렬된 점수에 맞게 정렬시켜주기"
   ]
  },
  {
   "cell_type": "code",
   "execution_count": 81,
   "id": "c7e1cd26",
   "metadata": {
    "ExecuteTime": {
     "end_time": "2022-03-26T06:57:04.104274Z",
     "start_time": "2022-03-26T06:57:04.083399Z"
    }
   },
   "outputs": [
    {
     "name": "stdout",
     "output_type": "stream",
     "text": [
      "sort indices: [0 2 4 1 3]\n",
      "['John' 'Sarah' 'Samuel' 'Mike' 'Kate']\n",
      "[78 84 88 95 98]\n"
     ]
    }
   ],
   "source": [
    "name_array=np.array(['John', 'Mike', 'Sarah', 'Kate', 'Samuel'])\n",
    "score_array=np.array([78, 95, 84, 98, 88])\n",
    "\n",
    "# score_array의 정렬된 값에 해당하는 원본 행렬 위치 인덱스 반환하고 이를 이용하여 name_array에서 name값 추출.  \n",
    "sort_indices = np.argsort(score_array)\n",
    "print(\"sort indices:\", sort_indices)\n",
    "\n",
    "name_array_sort = name_array[sort_indices]\n",
    "\n",
    "score_array_sort = score_array[sort_indices]\n",
    "print(name_array_sort)\n",
    "print(score_array_sort)"
   ]
  },
  {
   "cell_type": "markdown",
   "id": "ecce9ac7",
   "metadata": {
    "ExecuteTime": {
     "end_time": "2022-03-26T07:00:15.670481Z",
     "start_time": "2022-03-26T07:00:15.665552Z"
    }
   },
   "source": [
    " # 선형대수 연산, 행렬내적과 전치행렬"
   ]
  },
  {
   "cell_type": "markdown",
   "id": "89585fb2",
   "metadata": {
    "ExecuteTime": {
     "end_time": "2022-03-26T07:00:58.858169Z",
     "start_time": "2022-03-26T07:00:58.853019Z"
    }
   },
   "source": [
    " ## 행렬내적"
   ]
  },
  {
   "cell_type": "code",
   "execution_count": 84,
   "id": "84d0f74a",
   "metadata": {
    "ExecuteTime": {
     "end_time": "2022-03-26T07:01:48.716627Z",
     "start_time": "2022-03-26T07:01:48.699350Z"
    }
   },
   "outputs": [
    {
     "name": "stdout",
     "output_type": "stream",
     "text": [
      "행렬 내적 결과:\n",
      " [[ 58  64]\n",
      " [139 154]]\n"
     ]
    }
   ],
   "source": [
    "A = np.array([[1, 2, 3],\n",
    "              [4, 5, 6]])\n",
    "B = np.array([[7, 8],\n",
    "              [9, 10],\n",
    "              [11, 12]])\n",
    "\n",
    "dot_product = np.dot(A, B)\n",
    "print('행렬 내적 결과:\\n', dot_product)"
   ]
  },
  {
   "cell_type": "markdown",
   "id": "9d513db3",
   "metadata": {
    "ExecuteTime": {
     "end_time": "2022-03-26T07:02:03.711416Z",
     "start_time": "2022-03-26T07:02:03.707528Z"
    }
   },
   "source": [
    " ## 전치행렬"
   ]
  },
  {
   "cell_type": "code",
   "execution_count": 86,
   "id": "395ebcb5",
   "metadata": {
    "ExecuteTime": {
     "end_time": "2022-03-26T07:02:12.558836Z",
     "start_time": "2022-03-26T07:02:12.541618Z"
    }
   },
   "outputs": [
    {
     "name": "stdout",
     "output_type": "stream",
     "text": [
      "A의 전치 행렬:\n",
      " [[1 3]\n",
      " [2 4]]\n"
     ]
    }
   ],
   "source": [
    "A = np.array([[1, 2],\n",
    "              [3, 4]])\n",
    "transpose_mat = np.transpose(A)\n",
    "print('A의 전치 행렬:\\n', transpose_mat)"
   ]
  },
  {
   "cell_type": "code",
   "execution_count": null,
   "id": "3e36d0a4",
   "metadata": {},
   "outputs": [],
   "source": []
  }
 ],
 "metadata": {
  "kernelspec": {
   "display_name": "Python 3 (ipykernel)",
   "language": "python",
   "name": "python3"
  },
  "language_info": {
   "codemirror_mode": {
    "name": "ipython",
    "version": 3
   },
   "file_extension": ".py",
   "mimetype": "text/x-python",
   "name": "python",
   "nbconvert_exporter": "python",
   "pygments_lexer": "ipython3",
   "version": "3.9.7"
  },
  "toc": {
   "base_numbering": 1,
   "nav_menu": {},
   "number_sections": true,
   "sideBar": true,
   "skip_h1_title": false,
   "title_cell": "Table of Contents",
   "title_sidebar": "Contents",
   "toc_cell": false,
   "toc_position": {
    "height": "calc(100% - 180px)",
    "left": "10px",
    "top": "150px",
    "width": "303.837px"
   },
   "toc_section_display": true,
   "toc_window_display": false
  }
 },
 "nbformat": 4,
 "nbformat_minor": 5
}
